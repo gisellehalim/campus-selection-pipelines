{
  "nbformat": 4,
  "nbformat_minor": 0,
  "metadata": {
    "colab": {
      "provenance": []
    },
    "kernelspec": {
      "name": "python3",
      "display_name": "Python 3"
    },
    "language_info": {
      "name": "python"
    }
  },
  "cells": [
    {
      "cell_type": "code",
      "execution_count": 1,
      "metadata": {
        "id": "FgttNErDgyI3"
      },
      "outputs": [],
      "source": [
        "import pandas as pd\n",
        "import requests\n",
        "import json\n",
        "import base64\n",
        "import tensorflow as tf"
      ]
    },
    {
      "cell_type": "code",
      "source": [
        "data = pd.read_csv('Campus_Selection_Clean.csv')\n",
        "inputs = data.iloc[27, :12].to_dict()\n",
        "inputs"
      ],
      "metadata": {
        "colab": {
          "base_uri": "https://localhost:8080/"
        },
        "id": "X5m9hFbuhB-8",
        "outputId": "ebbe8b4e-ef18-41b5-845e-8596c0d216f4"
      },
      "execution_count": 2,
      "outputs": [
        {
          "output_type": "execute_result",
          "data": {
            "text/plain": [
              "{'gender': 'M',\n",
              " 'ssc_p': 63.0,\n",
              " 'ssc_b': 'Others',\n",
              " 'hsc_p': 67.0,\n",
              " 'hsc_b': 'Others',\n",
              " 'hsc_s': 'Commerce',\n",
              " 'degree_p': 66.0,\n",
              " 'degree_t': 'Comm&Mgmt',\n",
              " 'workex': 'No',\n",
              " 'etest_p': 68.0,\n",
              " 'specialisation': 'Mkt&HR',\n",
              " 'mba_p': 57.69}"
            ]
          },
          "metadata": {},
          "execution_count": 2
        }
      ]
    },
    {
      "cell_type": "code",
      "source": [
        "data.iloc[27, :13]"
      ],
      "metadata": {
        "colab": {
          "base_uri": "https://localhost:8080/"
        },
        "id": "LtUfxfOphP9J",
        "outputId": "a13e9f72-8ce5-4313-9baf-48011a4350a3"
      },
      "execution_count": 3,
      "outputs": [
        {
          "output_type": "execute_result",
          "data": {
            "text/plain": [
              "gender                    M\n",
              "ssc_p                  63.0\n",
              "ssc_b                Others\n",
              "hsc_p                  67.0\n",
              "hsc_b                Others\n",
              "hsc_s              Commerce\n",
              "degree_p               66.0\n",
              "degree_t          Comm&Mgmt\n",
              "workex                   No\n",
              "etest_p                68.0\n",
              "specialisation       Mkt&HR\n",
              "mba_p                 57.69\n",
              "status                    1\n",
              "Name: 27, dtype: object"
            ]
          },
          "metadata": {},
          "execution_count": 3
        }
      ]
    },
    {
      "cell_type": "code",
      "source": [
        "def prepare_json(inputs: dict):\n",
        "    feature_spec = dict()\n",
        "\n",
        "    for keys, values in inputs.items():\n",
        "        if isinstance(values, float):\n",
        "            feature_spec[keys] = tf.train.Feature(float_list=tf.train.FloatList(value=[values]))\n",
        "        elif isinstance(values, int):\n",
        "            feature_spec[keys] = tf.train.Feature(int64_list=tf.train.Int64List(value=[values]))\n",
        "        elif isinstance(values, str):\n",
        "            feature_spec[keys] = tf.train.Feature(bytes_list=tf.train.BytesList(value=[values.encode()]))\n",
        "\n",
        "    example = tf.train.Example(\n",
        "        features=tf.train.Features(feature=feature_spec)\n",
        "    ).SerializeToString()\n",
        "\n",
        "    result = [\n",
        "        {\n",
        "            \"examples\": {\n",
        "                \"b64\": base64.b64encode(example).decode()\n",
        "            }\n",
        "        }\n",
        "    ]\n",
        "\n",
        "    return json.dumps({\n",
        "        \"signature_name\": \"serving_default\",\n",
        "        \"instances\": result,\n",
        "    })"
      ],
      "metadata": {
        "id": "70rl-PGRhUZf"
      },
      "execution_count": 4,
      "outputs": []
    },
    {
      "cell_type": "code",
      "source": [
        "json_data = prepare_json(inputs)\n",
        "\n",
        "endpoint = \"https://campus-selection-classification-production.up.railway.app/v1/models/campus-selection-classification-model:predict\"\n",
        "response = requests.post(endpoint, data=json_data)\n",
        "\n",
        "prediction = response.json().get(\"predictions\")\n",
        "if prediction:\n",
        "    prediction_value = prediction[0][0]\n",
        "    result = \"Not Accepted\" if prediction_value < 0.5 else \"Accepted\"\n",
        "else:\n",
        "    result = \"Error: No predictions found in response.\""
      ],
      "metadata": {
        "id": "uw-rEc6Xhn4y"
      },
      "execution_count": 5,
      "outputs": []
    },
    {
      "cell_type": "code",
      "source": [
        "print(result)"
      ],
      "metadata": {
        "colab": {
          "base_uri": "https://localhost:8080/"
        },
        "id": "3guZ_ycIhppO",
        "outputId": "71d1085e-a5b3-462d-fd8e-29efa2673f71"
      },
      "execution_count": 6,
      "outputs": [
        {
          "output_type": "stream",
          "name": "stdout",
          "text": [
            "Accepted\n"
          ]
        }
      ]
    }
  ]
}